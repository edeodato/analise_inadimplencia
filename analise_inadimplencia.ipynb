{
  "nbformat": 4,
  "nbformat_minor": 0,
  "metadata": {
    "colab": {
      "name": "Trabalho de Conclusão.ipynb",
      "provenance": [],
      "collapsed_sections": [],
      "toc_visible": true,
      "mount_file_id": "1dTlzCbqqS1voLqTZHiIphSE6SyDLrewO",
      "authorship_tag": "ABX9TyOsa1t25mDPandg6t0mLDLI"
    },
    "kernelspec": {
      "name": "python3",
      "display_name": "Python 3"
    },
    "language_info": {
      "name": "python"
    }
  },
  "cells": [
    {
      "cell_type": "markdown",
      "metadata": {
        "id": "l4fFJWqIeRRe"
      },
      "source": [
        "# Descrição\n",
        "\n",
        "Neste projeto vamos analisar os dados de um banco com o intuito de identificar quais informações podem nos indicar possíveis clientes inadimplentes.\n",
        "\n",
        "Vamos levar em consideração muitas variáveis disponíveis na base de dados e tentar relacionar uma ou mais delas com este fator."
      ]
    },
    {
      "cell_type": "markdown",
      "metadata": {
        "id": "mgaMVIAJe838"
      },
      "source": [
        "# Iniciando as importações\n",
        "\n",
        "Vamos iniciar importando todas os pacotes com os quais iremos trabalhar nessa análise."
      ]
    },
    {
      "cell_type": "code",
      "metadata": {
        "id": "lp-OJQcRVHgo"
      },
      "source": [
        "import pandas as pd\n",
        "import seaborn as sns\n",
        "import matplotlib.pyplot as plt"
      ],
      "execution_count": null,
      "outputs": []
    },
    {
      "cell_type": "markdown",
      "metadata": {
        "id": "9NCJyOk9WSLi"
      },
      "source": [
        "Carregando a base de dados. Estes dados também estão disponíveis neste [link](https://drive.google.com/file/d/1PhDG0inFUAb-EeX476z3myPkKj1ZQrf6/view?usp=sharing)."
      ]
    },
    {
      "cell_type": "code",
      "metadata": {
        "id": "luoAoVfsWATF"
      },
      "source": [
        "df = pd.read_csv('/content/drive/MyDrive/Data_Science/publico/credito.csv', na_values='na')"
      ],
      "execution_count": null,
      "outputs": []
    },
    {
      "cell_type": "markdown",
      "metadata": {
        "id": "Hm818naIWYha"
      },
      "source": [
        "# Primeiras explorações\n",
        "\n",
        "Vamos fazer uma primeira observação dos dados olhando para uma pequena parte das informações."
      ]
    },
    {
      "cell_type": "code",
      "metadata": {
        "colab": {
          "base_uri": "https://localhost:8080/",
          "height": 244
        },
        "id": "x7GPddWUWHsd",
        "outputId": "1fde44f6-4670-4faa-e3e6-a2a55c434d6e"
      },
      "source": [
        "df.head()"
      ],
      "execution_count": null,
      "outputs": [
        {
          "output_type": "execute_result",
          "data": {
            "text/html": [
              "<div>\n",
              "<style scoped>\n",
              "    .dataframe tbody tr th:only-of-type {\n",
              "        vertical-align: middle;\n",
              "    }\n",
              "\n",
              "    .dataframe tbody tr th {\n",
              "        vertical-align: top;\n",
              "    }\n",
              "\n",
              "    .dataframe thead th {\n",
              "        text-align: right;\n",
              "    }\n",
              "</style>\n",
              "<table border=\"1\" class=\"dataframe\">\n",
              "  <thead>\n",
              "    <tr style=\"text-align: right;\">\n",
              "      <th></th>\n",
              "      <th>id</th>\n",
              "      <th>default</th>\n",
              "      <th>idade</th>\n",
              "      <th>sexo</th>\n",
              "      <th>dependentes</th>\n",
              "      <th>escolaridade</th>\n",
              "      <th>estado_civil</th>\n",
              "      <th>salario_anual</th>\n",
              "      <th>tipo_cartao</th>\n",
              "      <th>meses_de_relacionamento</th>\n",
              "      <th>qtd_produtos</th>\n",
              "      <th>iteracoes_12m</th>\n",
              "      <th>meses_inativo_12m</th>\n",
              "      <th>limite_credito</th>\n",
              "      <th>valor_transacoes_12m</th>\n",
              "      <th>qtd_transacoes_12m</th>\n",
              "    </tr>\n",
              "  </thead>\n",
              "  <tbody>\n",
              "    <tr>\n",
              "      <th>0</th>\n",
              "      <td>768805383</td>\n",
              "      <td>0</td>\n",
              "      <td>45</td>\n",
              "      <td>M</td>\n",
              "      <td>3</td>\n",
              "      <td>ensino medio</td>\n",
              "      <td>casado</td>\n",
              "      <td>$60K - $80K</td>\n",
              "      <td>blue</td>\n",
              "      <td>39</td>\n",
              "      <td>5</td>\n",
              "      <td>3</td>\n",
              "      <td>1</td>\n",
              "      <td>12.691,51</td>\n",
              "      <td>1.144,90</td>\n",
              "      <td>42</td>\n",
              "    </tr>\n",
              "    <tr>\n",
              "      <th>1</th>\n",
              "      <td>818770008</td>\n",
              "      <td>0</td>\n",
              "      <td>49</td>\n",
              "      <td>F</td>\n",
              "      <td>5</td>\n",
              "      <td>mestrado</td>\n",
              "      <td>solteiro</td>\n",
              "      <td>menos que $40K</td>\n",
              "      <td>blue</td>\n",
              "      <td>44</td>\n",
              "      <td>6</td>\n",
              "      <td>2</td>\n",
              "      <td>1</td>\n",
              "      <td>8.256,96</td>\n",
              "      <td>1.291,45</td>\n",
              "      <td>33</td>\n",
              "    </tr>\n",
              "    <tr>\n",
              "      <th>2</th>\n",
              "      <td>713982108</td>\n",
              "      <td>0</td>\n",
              "      <td>51</td>\n",
              "      <td>M</td>\n",
              "      <td>3</td>\n",
              "      <td>mestrado</td>\n",
              "      <td>casado</td>\n",
              "      <td>$80K - $120K</td>\n",
              "      <td>blue</td>\n",
              "      <td>36</td>\n",
              "      <td>4</td>\n",
              "      <td>0</td>\n",
              "      <td>1</td>\n",
              "      <td>3.418,56</td>\n",
              "      <td>1.887,72</td>\n",
              "      <td>20</td>\n",
              "    </tr>\n",
              "    <tr>\n",
              "      <th>3</th>\n",
              "      <td>769911858</td>\n",
              "      <td>0</td>\n",
              "      <td>40</td>\n",
              "      <td>F</td>\n",
              "      <td>4</td>\n",
              "      <td>ensino medio</td>\n",
              "      <td>NaN</td>\n",
              "      <td>menos que $40K</td>\n",
              "      <td>blue</td>\n",
              "      <td>34</td>\n",
              "      <td>3</td>\n",
              "      <td>1</td>\n",
              "      <td>4</td>\n",
              "      <td>3.313,03</td>\n",
              "      <td>1.171,56</td>\n",
              "      <td>20</td>\n",
              "    </tr>\n",
              "    <tr>\n",
              "      <th>4</th>\n",
              "      <td>709106358</td>\n",
              "      <td>0</td>\n",
              "      <td>40</td>\n",
              "      <td>M</td>\n",
              "      <td>3</td>\n",
              "      <td>sem educacao formal</td>\n",
              "      <td>casado</td>\n",
              "      <td>$60K - $80K</td>\n",
              "      <td>blue</td>\n",
              "      <td>21</td>\n",
              "      <td>5</td>\n",
              "      <td>0</td>\n",
              "      <td>1</td>\n",
              "      <td>4.716,22</td>\n",
              "      <td>816,08</td>\n",
              "      <td>28</td>\n",
              "    </tr>\n",
              "  </tbody>\n",
              "</table>\n",
              "</div>"
            ],
            "text/plain": [
              "          id  default  ...  valor_transacoes_12m qtd_transacoes_12m\n",
              "0  768805383        0  ...              1.144,90                 42\n",
              "1  818770008        0  ...              1.291,45                 33\n",
              "2  713982108        0  ...              1.887,72                 20\n",
              "3  769911858        0  ...              1.171,56                 20\n",
              "4  709106358        0  ...                816,08                 28\n",
              "\n",
              "[5 rows x 16 columns]"
            ]
          },
          "metadata": {
            "tags": []
          },
          "execution_count": 3
        }
      ]
    },
    {
      "cell_type": "markdown",
      "metadata": {
        "id": "gblRzgDDbvEi"
      },
      "source": [
        "Na análise abaixo vemos que temos dados importantes que deveriam de estar em formato numérico que são as variáveis *limite_credito* e *valor_transacoes_12m*. Ambas necessitam ser convertidas para que possam ser processadas."
      ]
    },
    {
      "cell_type": "code",
      "metadata": {
        "colab": {
          "base_uri": "https://localhost:8080/"
        },
        "id": "Embwiu6RWJIf",
        "outputId": "a05b73d0-f23a-4bbe-caaf-6095aac48e5c"
      },
      "source": [
        "df.dtypes"
      ],
      "execution_count": null,
      "outputs": [
        {
          "output_type": "execute_result",
          "data": {
            "text/plain": [
              "id                          int64\n",
              "default                     int64\n",
              "idade                       int64\n",
              "sexo                       object\n",
              "dependentes                 int64\n",
              "escolaridade               object\n",
              "estado_civil               object\n",
              "salario_anual              object\n",
              "tipo_cartao                object\n",
              "meses_de_relacionamento     int64\n",
              "qtd_produtos                int64\n",
              "iteracoes_12m               int64\n",
              "meses_inativo_12m           int64\n",
              "limite_credito             object\n",
              "valor_transacoes_12m       object\n",
              "qtd_transacoes_12m          int64\n",
              "dtype: object"
            ]
          },
          "metadata": {
            "tags": []
          },
          "execution_count": 4
        }
      ]
    },
    {
      "cell_type": "markdown",
      "metadata": {
        "id": "1MapRHtueDO8"
      },
      "source": [
        "Vamos verificar agora a contagem de linhas e colunas do nosso dataframe. (10127 linhas e 16 colunas)"
      ]
    },
    {
      "cell_type": "code",
      "metadata": {
        "colab": {
          "base_uri": "https://localhost:8080/"
        },
        "id": "xM0izDrREUrL",
        "outputId": "389110e3-4c6f-44c0-ce4b-468403ca39e1"
      },
      "source": [
        "df.shape\n"
      ],
      "execution_count": null,
      "outputs": [
        {
          "output_type": "execute_result",
          "data": {
            "text/plain": [
              "(10127, 16)"
            ]
          },
          "metadata": {
            "tags": []
          },
          "execution_count": 5
        }
      ]
    },
    {
      "cell_type": "markdown",
      "metadata": {
        "id": "Ft-ynvWYbUYU"
      },
      "source": [
        "Podemos verificar que há valores faltantes na base com as informações abaixo, nas variáveis *escolaridade*, *estado_civil* e *salario_anual*.\n",
        "Os valores da coluna **Non-Null Count** destas variáveis não tem o mesmo valor da soma total de linhas, e podem gerar algum tipo de inconsistência para a nossa análise."
      ]
    },
    {
      "cell_type": "code",
      "metadata": {
        "id": "J1FI7JejBrXN",
        "colab": {
          "base_uri": "https://localhost:8080/"
        },
        "outputId": "e8928d79-e7d9-4c3a-806f-3e6de24e9040"
      },
      "source": [
        "df.info()"
      ],
      "execution_count": null,
      "outputs": [
        {
          "output_type": "stream",
          "text": [
            "<class 'pandas.core.frame.DataFrame'>\n",
            "RangeIndex: 10127 entries, 0 to 10126\n",
            "Data columns (total 16 columns):\n",
            " #   Column                   Non-Null Count  Dtype \n",
            "---  ------                   --------------  ----- \n",
            " 0   id                       10127 non-null  int64 \n",
            " 1   default                  10127 non-null  int64 \n",
            " 2   idade                    10127 non-null  int64 \n",
            " 3   sexo                     10127 non-null  object\n",
            " 4   dependentes              10127 non-null  int64 \n",
            " 5   escolaridade             8608 non-null   object\n",
            " 6   estado_civil             9378 non-null   object\n",
            " 7   salario_anual            9015 non-null   object\n",
            " 8   tipo_cartao              10127 non-null  object\n",
            " 9   meses_de_relacionamento  10127 non-null  int64 \n",
            " 10  qtd_produtos             10127 non-null  int64 \n",
            " 11  iteracoes_12m            10127 non-null  int64 \n",
            " 12  meses_inativo_12m        10127 non-null  int64 \n",
            " 13  limite_credito           10127 non-null  object\n",
            " 14  valor_transacoes_12m     10127 non-null  object\n",
            " 15  qtd_transacoes_12m       10127 non-null  int64 \n",
            "dtypes: int64(9), object(7)\n",
            "memory usage: 1.2+ MB\n"
          ],
          "name": "stdout"
        }
      ]
    },
    {
      "cell_type": "markdown",
      "metadata": {
        "id": "p7aG-kX_hs7h"
      },
      "source": [
        "Com esta visualização confirmamos a ausência de dados em algumas variáveis."
      ]
    },
    {
      "cell_type": "code",
      "metadata": {
        "colab": {
          "base_uri": "https://localhost:8080/"
        },
        "id": "bZ1Zro-eEpqP",
        "outputId": "300f03bd-d56c-4814-e008-2b6ae01fc639"
      },
      "source": [
        "df.isna().any()"
      ],
      "execution_count": null,
      "outputs": [
        {
          "output_type": "execute_result",
          "data": {
            "text/plain": [
              "id                         False\n",
              "default                    False\n",
              "idade                      False\n",
              "sexo                       False\n",
              "dependentes                False\n",
              "escolaridade                True\n",
              "estado_civil                True\n",
              "salario_anual               True\n",
              "tipo_cartao                False\n",
              "meses_de_relacionamento    False\n",
              "qtd_produtos               False\n",
              "iteracoes_12m              False\n",
              "meses_inativo_12m          False\n",
              "limite_credito             False\n",
              "valor_transacoes_12m       False\n",
              "qtd_transacoes_12m         False\n",
              "dtype: bool"
            ]
          },
          "metadata": {
            "tags": []
          },
          "execution_count": 7
        }
      ]
    },
    {
      "cell_type": "markdown",
      "metadata": {
        "id": "l-O1gYxEbo-Q"
      },
      "source": [
        "Em seguida estão as colunas que estão em formato não-numérico. Podemos observar que a formatação está em um padrão que o Python não reconhece como numérico. (ponto \".\" para casa de milhar e vírgula \",\" para as casas decimais)"
      ]
    },
    {
      "cell_type": "code",
      "metadata": {
        "colab": {
          "base_uri": "https://localhost:8080/",
          "height": 424
        },
        "id": "Gg7lxFJ0Xhhe",
        "outputId": "e709d587-3fbf-4f49-f5e8-34fea1fbace5"
      },
      "source": [
        "df[['limite_credito','valor_transacoes_12m']]"
      ],
      "execution_count": null,
      "outputs": [
        {
          "output_type": "execute_result",
          "data": {
            "text/html": [
              "<div>\n",
              "<style scoped>\n",
              "    .dataframe tbody tr th:only-of-type {\n",
              "        vertical-align: middle;\n",
              "    }\n",
              "\n",
              "    .dataframe tbody tr th {\n",
              "        vertical-align: top;\n",
              "    }\n",
              "\n",
              "    .dataframe thead th {\n",
              "        text-align: right;\n",
              "    }\n",
              "</style>\n",
              "<table border=\"1\" class=\"dataframe\">\n",
              "  <thead>\n",
              "    <tr style=\"text-align: right;\">\n",
              "      <th></th>\n",
              "      <th>limite_credito</th>\n",
              "      <th>valor_transacoes_12m</th>\n",
              "    </tr>\n",
              "  </thead>\n",
              "  <tbody>\n",
              "    <tr>\n",
              "      <th>0</th>\n",
              "      <td>12.691,51</td>\n",
              "      <td>1.144,90</td>\n",
              "    </tr>\n",
              "    <tr>\n",
              "      <th>1</th>\n",
              "      <td>8.256,96</td>\n",
              "      <td>1.291,45</td>\n",
              "    </tr>\n",
              "    <tr>\n",
              "      <th>2</th>\n",
              "      <td>3.418,56</td>\n",
              "      <td>1.887,72</td>\n",
              "    </tr>\n",
              "    <tr>\n",
              "      <th>3</th>\n",
              "      <td>3.313,03</td>\n",
              "      <td>1.171,56</td>\n",
              "    </tr>\n",
              "    <tr>\n",
              "      <th>4</th>\n",
              "      <td>4.716,22</td>\n",
              "      <td>816,08</td>\n",
              "    </tr>\n",
              "    <tr>\n",
              "      <th>...</th>\n",
              "      <td>...</td>\n",
              "      <td>...</td>\n",
              "    </tr>\n",
              "    <tr>\n",
              "      <th>10122</th>\n",
              "      <td>4.003,91</td>\n",
              "      <td>15.476,26</td>\n",
              "    </tr>\n",
              "    <tr>\n",
              "      <th>10123</th>\n",
              "      <td>4.277,04</td>\n",
              "      <td>8.764,88</td>\n",
              "    </tr>\n",
              "    <tr>\n",
              "      <th>10124</th>\n",
              "      <td>5.409,16</td>\n",
              "      <td>10.291,78</td>\n",
              "    </tr>\n",
              "    <tr>\n",
              "      <th>10125</th>\n",
              "      <td>5.281,84</td>\n",
              "      <td>8.395,62</td>\n",
              "    </tr>\n",
              "    <tr>\n",
              "      <th>10126</th>\n",
              "      <td>10.388,80</td>\n",
              "      <td>10.294,96</td>\n",
              "    </tr>\n",
              "  </tbody>\n",
              "</table>\n",
              "<p>10127 rows × 2 columns</p>\n",
              "</div>"
            ],
            "text/plain": [
              "      limite_credito valor_transacoes_12m\n",
              "0          12.691,51             1.144,90\n",
              "1           8.256,96             1.291,45\n",
              "2           3.418,56             1.887,72\n",
              "3           3.313,03             1.171,56\n",
              "4           4.716,22               816,08\n",
              "...              ...                  ...\n",
              "10122       4.003,91            15.476,26\n",
              "10123       4.277,04             8.764,88\n",
              "10124       5.409,16            10.291,78\n",
              "10125       5.281,84             8.395,62\n",
              "10126      10.388,80            10.294,96\n",
              "\n",
              "[10127 rows x 2 columns]"
            ]
          },
          "metadata": {
            "tags": []
          },
          "execution_count": 8
        }
      ]
    },
    {
      "cell_type": "markdown",
      "metadata": {
        "id": "WLldzfqRpHsJ"
      },
      "source": [
        "# Limpeza e transformação"
      ]
    },
    {
      "cell_type": "markdown",
      "metadata": {
        "id": "C54D42bzbt44"
      },
      "source": [
        "## Conversão\n",
        "Para conseguir trabalhar com os dados acima vamos precisar alterar sua formatação e realizar a conversão para variável númerica.\n",
        "\n",
        "Mas antes vamos verificar com variáveis temporárias como vão ficar antes de aplicar na base."
      ]
    },
    {
      "cell_type": "code",
      "metadata": {
        "id": "43EatjD1Xpn2"
      },
      "source": [
        "limite_credito = df['limite_credito'].str.replace('.', '').str.replace(',', '.').astype(float)\n",
        "\n",
        "valor_transacoes_12m = df['valor_transacoes_12m'].str.replace('.', '').str.replace(',', '.').astype(float)"
      ],
      "execution_count": null,
      "outputs": []
    },
    {
      "cell_type": "code",
      "metadata": {
        "id": "OuAoMsNUaH3H",
        "colab": {
          "base_uri": "https://localhost:8080/"
        },
        "outputId": "7924839b-934d-409f-8875-f87bd52a1b99"
      },
      "source": [
        "limite_credito"
      ],
      "execution_count": null,
      "outputs": [
        {
          "output_type": "execute_result",
          "data": {
            "text/plain": [
              "0        12691.51\n",
              "1         8256.96\n",
              "2         3418.56\n",
              "3         3313.03\n",
              "4         4716.22\n",
              "           ...   \n",
              "10122     4003.91\n",
              "10123     4277.04\n",
              "10124     5409.16\n",
              "10125     5281.84\n",
              "10126    10388.80\n",
              "Name: limite_credito, Length: 10127, dtype: float64"
            ]
          },
          "metadata": {
            "tags": []
          },
          "execution_count": 10
        }
      ]
    },
    {
      "cell_type": "code",
      "metadata": {
        "id": "Uoiti2x0aIrX",
        "colab": {
          "base_uri": "https://localhost:8080/"
        },
        "outputId": "75c6357e-cbde-418d-e632-1b5e177f9f02"
      },
      "source": [
        "valor_transacoes_12m"
      ],
      "execution_count": null,
      "outputs": [
        {
          "output_type": "execute_result",
          "data": {
            "text/plain": [
              "0         1144.90\n",
              "1         1291.45\n",
              "2         1887.72\n",
              "3         1171.56\n",
              "4          816.08\n",
              "           ...   \n",
              "10122    15476.26\n",
              "10123     8764.88\n",
              "10124    10291.78\n",
              "10125     8395.62\n",
              "10126    10294.96\n",
              "Name: valor_transacoes_12m, Length: 10127, dtype: float64"
            ]
          },
          "metadata": {
            "tags": []
          },
          "execution_count": 11
        }
      ]
    },
    {
      "cell_type": "markdown",
      "metadata": {
        "id": "kiHIrhlQoI_C"
      },
      "source": [
        "Vamos aplicar as alterações."
      ]
    },
    {
      "cell_type": "code",
      "metadata": {
        "id": "KrQJaj8Eax_o"
      },
      "source": [
        "df['limite_credito'] = df['limite_credito'].str.replace('.', '').str.replace(',', '.').astype(float)\n",
        "\n",
        "df['valor_transacoes_12m'] = df['valor_transacoes_12m'].str.replace('.', '').str.replace(',', '.').astype(float)"
      ],
      "execution_count": null,
      "outputs": []
    },
    {
      "cell_type": "code",
      "metadata": {
        "colab": {
          "base_uri": "https://localhost:8080/",
          "height": 424
        },
        "id": "OdxYQkEgoZnX",
        "outputId": "3f440328-5d63-431d-e192-cc4be74e74da"
      },
      "source": [
        "df[['limite_credito', 'valor_transacoes_12m']]"
      ],
      "execution_count": null,
      "outputs": [
        {
          "output_type": "execute_result",
          "data": {
            "text/html": [
              "<div>\n",
              "<style scoped>\n",
              "    .dataframe tbody tr th:only-of-type {\n",
              "        vertical-align: middle;\n",
              "    }\n",
              "\n",
              "    .dataframe tbody tr th {\n",
              "        vertical-align: top;\n",
              "    }\n",
              "\n",
              "    .dataframe thead th {\n",
              "        text-align: right;\n",
              "    }\n",
              "</style>\n",
              "<table border=\"1\" class=\"dataframe\">\n",
              "  <thead>\n",
              "    <tr style=\"text-align: right;\">\n",
              "      <th></th>\n",
              "      <th>limite_credito</th>\n",
              "      <th>valor_transacoes_12m</th>\n",
              "    </tr>\n",
              "  </thead>\n",
              "  <tbody>\n",
              "    <tr>\n",
              "      <th>0</th>\n",
              "      <td>12691.51</td>\n",
              "      <td>1144.90</td>\n",
              "    </tr>\n",
              "    <tr>\n",
              "      <th>1</th>\n",
              "      <td>8256.96</td>\n",
              "      <td>1291.45</td>\n",
              "    </tr>\n",
              "    <tr>\n",
              "      <th>2</th>\n",
              "      <td>3418.56</td>\n",
              "      <td>1887.72</td>\n",
              "    </tr>\n",
              "    <tr>\n",
              "      <th>3</th>\n",
              "      <td>3313.03</td>\n",
              "      <td>1171.56</td>\n",
              "    </tr>\n",
              "    <tr>\n",
              "      <th>4</th>\n",
              "      <td>4716.22</td>\n",
              "      <td>816.08</td>\n",
              "    </tr>\n",
              "    <tr>\n",
              "      <th>...</th>\n",
              "      <td>...</td>\n",
              "      <td>...</td>\n",
              "    </tr>\n",
              "    <tr>\n",
              "      <th>10122</th>\n",
              "      <td>4003.91</td>\n",
              "      <td>15476.26</td>\n",
              "    </tr>\n",
              "    <tr>\n",
              "      <th>10123</th>\n",
              "      <td>4277.04</td>\n",
              "      <td>8764.88</td>\n",
              "    </tr>\n",
              "    <tr>\n",
              "      <th>10124</th>\n",
              "      <td>5409.16</td>\n",
              "      <td>10291.78</td>\n",
              "    </tr>\n",
              "    <tr>\n",
              "      <th>10125</th>\n",
              "      <td>5281.84</td>\n",
              "      <td>8395.62</td>\n",
              "    </tr>\n",
              "    <tr>\n",
              "      <th>10126</th>\n",
              "      <td>10388.80</td>\n",
              "      <td>10294.96</td>\n",
              "    </tr>\n",
              "  </tbody>\n",
              "</table>\n",
              "<p>10127 rows × 2 columns</p>\n",
              "</div>"
            ],
            "text/plain": [
              "       limite_credito  valor_transacoes_12m\n",
              "0            12691.51               1144.90\n",
              "1             8256.96               1291.45\n",
              "2             3418.56               1887.72\n",
              "3             3313.03               1171.56\n",
              "4             4716.22                816.08\n",
              "...               ...                   ...\n",
              "10122         4003.91              15476.26\n",
              "10123         4277.04               8764.88\n",
              "10124         5409.16              10291.78\n",
              "10125         5281.84               8395.62\n",
              "10126        10388.80              10294.96\n",
              "\n",
              "[10127 rows x 2 columns]"
            ]
          },
          "metadata": {
            "tags": []
          },
          "execution_count": 13
        }
      ]
    },
    {
      "cell_type": "code",
      "metadata": {
        "colab": {
          "base_uri": "https://localhost:8080/"
        },
        "id": "zxV25QDdbf3S",
        "outputId": "884d185f-3944-4f9f-b00e-eb65edb0152d"
      },
      "source": [
        "df.dtypes"
      ],
      "execution_count": null,
      "outputs": [
        {
          "output_type": "execute_result",
          "data": {
            "text/plain": [
              "id                           int64\n",
              "default                      int64\n",
              "idade                        int64\n",
              "sexo                        object\n",
              "dependentes                  int64\n",
              "escolaridade                object\n",
              "estado_civil                object\n",
              "salario_anual               object\n",
              "tipo_cartao                 object\n",
              "meses_de_relacionamento      int64\n",
              "qtd_produtos                 int64\n",
              "iteracoes_12m                int64\n",
              "meses_inativo_12m            int64\n",
              "limite_credito             float64\n",
              "valor_transacoes_12m       float64\n",
              "qtd_transacoes_12m           int64\n",
              "dtype: object"
            ]
          },
          "metadata": {
            "tags": []
          },
          "execution_count": 14
        }
      ]
    },
    {
      "cell_type": "markdown",
      "metadata": {
        "id": "Ey5Tq7KRcRHY"
      },
      "source": [
        "## Consistência\n",
        "\n",
        "Como pudemos verificar, existem 3 variáveis que apresentam ausência de dados."
      ]
    },
    {
      "cell_type": "code",
      "metadata": {
        "colab": {
          "base_uri": "https://localhost:8080/"
        },
        "id": "VaGM9-vLbjnC",
        "outputId": "b3ec6890-58b0-492a-c02c-917eed8ba97a"
      },
      "source": [
        "df.isna().any()"
      ],
      "execution_count": null,
      "outputs": [
        {
          "output_type": "execute_result",
          "data": {
            "text/plain": [
              "id                         False\n",
              "default                    False\n",
              "idade                      False\n",
              "sexo                       False\n",
              "dependentes                False\n",
              "escolaridade                True\n",
              "estado_civil                True\n",
              "salario_anual               True\n",
              "tipo_cartao                False\n",
              "meses_de_relacionamento    False\n",
              "qtd_produtos               False\n",
              "iteracoes_12m              False\n",
              "meses_inativo_12m          False\n",
              "limite_credito             False\n",
              "valor_transacoes_12m       False\n",
              "qtd_transacoes_12m         False\n",
              "dtype: bool"
            ]
          },
          "metadata": {
            "tags": []
          },
          "execution_count": 15
        }
      ]
    },
    {
      "cell_type": "markdown",
      "metadata": {
        "id": "PHwAXYZ2rfW-"
      },
      "source": [
        "Precisamos analisar se podemos apagar as linhas que apresentam esses problemas, sem impactar na nossa análise. Uma forma de analisar é checar a porcentagem de ocorrências na base completa e também individualmente em relação ao nosso target, que é a nossa variável *default*.\n",
        "\n",
        "Analisando a base separando pelas variáveis *default*.\n",
        "\n",
        "Vamos criar uma função para calcular as porcentagens de dados ausentes."
      ]
    },
    {
      "cell_type": "code",
      "metadata": {
        "id": "SvETd0wE0Nq4"
      },
      "source": [
        "def calcula_porcentagem(base, total, coluna):\n",
        "\n",
        "  var = round(((base[coluna].isna().sum())/total*100),2)\n",
        "  print(f'A porcentagem de dados faltantes no campo {coluna} é de {var}')\n",
        "  return"
      ],
      "execution_count": null,
      "outputs": []
    },
    {
      "cell_type": "markdown",
      "metadata": {
        "id": "b9I6t6EYxXFV"
      },
      "source": [
        "Analisando a base completa."
      ]
    },
    {
      "cell_type": "code",
      "metadata": {
        "colab": {
          "base_uri": "https://localhost:8080/"
        },
        "id": "OZpRPIFS5uPA",
        "outputId": "f850fec0-e3ab-40cb-9d94-38648acb25c2"
      },
      "source": [
        "calcula_porcentagem(df, df.shape[0], 'escolaridade')\n",
        "calcula_porcentagem(df, df.shape[0], 'estado_civil')\n",
        "calcula_porcentagem(df, df.shape[0], 'salario_anual')"
      ],
      "execution_count": null,
      "outputs": [
        {
          "output_type": "stream",
          "text": [
            "A porcentagem de dados faltantes no campo escolaridade é de 15.0\n",
            "A porcentagem de dados faltantes no campo estado_civil é de 7.4\n",
            "A porcentagem de dados faltantes no campo salario_anual é de 10.98\n"
          ],
          "name": "stdout"
        }
      ]
    },
    {
      "cell_type": "markdown",
      "metadata": {
        "id": "_ZCwaUYQ6QtP"
      },
      "source": [
        "Agora vamos separar nosso dataframe pela variável default."
      ]
    },
    {
      "cell_type": "code",
      "metadata": {
        "id": "LIE5dZgu1GLt"
      },
      "source": [
        "df_0 = df[df['default'] == 0]\n",
        "df_1 = df[df['default'] == 1]"
      ],
      "execution_count": null,
      "outputs": []
    },
    {
      "cell_type": "markdown",
      "metadata": {
        "id": "VYAwNHnW6aXK"
      },
      "source": [
        "Abaixo o cálculo da porcentagem de dados faltantes para os clientes adimplentes."
      ]
    },
    {
      "cell_type": "code",
      "metadata": {
        "id": "G-oVxUCcu8CE",
        "colab": {
          "base_uri": "https://localhost:8080/"
        },
        "outputId": "f63a08c1-e6e8-4c25-eeed-2e022b2d74ce"
      },
      "source": [
        "calcula_porcentagem(df_0, df_0.shape[0], 'escolaridade')\n",
        "calcula_porcentagem(df_0, df_0.shape[0], 'estado_civil')\n",
        "calcula_porcentagem(df_0, df_0.shape[0], 'salario_anual')"
      ],
      "execution_count": null,
      "outputs": [
        {
          "output_type": "stream",
          "text": [
            "A porcentagem de dados faltantes no campo escolaridade é de 14.86\n",
            "A porcentagem de dados faltantes no campo estado_civil é de 7.29\n",
            "A porcentagem de dados faltantes no campo salario_anual é de 10.88\n"
          ],
          "name": "stdout"
        }
      ]
    },
    {
      "cell_type": "markdown",
      "metadata": {
        "id": "BeFixbXD6tJ6"
      },
      "source": [
        "E o cálculo para os dados faltantes na base de cliente inadimplentes."
      ]
    },
    {
      "cell_type": "code",
      "metadata": {
        "colab": {
          "base_uri": "https://localhost:8080/"
        },
        "id": "VgLe5B7YyRad",
        "outputId": "fee9dcf8-5e8a-4a2b-f0a6-eea858801a7b"
      },
      "source": [
        "calcula_porcentagem(df_1, df_1.shape[0], 'escolaridade')\n",
        "calcula_porcentagem(df_1, df_1.shape[0], 'estado_civil')\n",
        "calcula_porcentagem(df_1, df_1.shape[0], 'salario_anual')"
      ],
      "execution_count": null,
      "outputs": [
        {
          "output_type": "stream",
          "text": [
            "A porcentagem de dados faltantes no campo escolaridade é de 15.73\n",
            "A porcentagem de dados faltantes no campo estado_civil é de 7.93\n",
            "A porcentagem de dados faltantes no campo salario_anual é de 11.49\n"
          ],
          "name": "stdout"
        }
      ]
    },
    {
      "cell_type": "markdown",
      "metadata": {
        "id": "KznUmS1z65Bv"
      },
      "source": [
        "Observamos que as proporções tem uma variação muito pequena, mantendo uma proximidade em que não afetaremos a base se excluirmos as linhas que possuem dados faltantes.\n",
        "\n",
        "Com essa análise vamos limpar os dados inconsistentes."
      ]
    },
    {
      "cell_type": "code",
      "metadata": {
        "id": "oU5P1k-ExAZt"
      },
      "source": [
        "df.dropna(inplace=True)"
      ],
      "execution_count": null,
      "outputs": []
    },
    {
      "cell_type": "markdown",
      "metadata": {
        "id": "9RwQUxZk77_A"
      },
      "source": [
        "Vamos checar como a alteração afetou nossos dados."
      ]
    },
    {
      "cell_type": "code",
      "metadata": {
        "colab": {
          "base_uri": "https://localhost:8080/"
        },
        "id": "hFWi2GCi71dq",
        "outputId": "4e19fb48-eb72-471a-bd58-f5d910c05a24"
      },
      "source": [
        "df.shape"
      ],
      "execution_count": null,
      "outputs": [
        {
          "output_type": "execute_result",
          "data": {
            "text/plain": [
              "(7081, 16)"
            ]
          },
          "metadata": {
            "tags": []
          },
          "execution_count": 22
        }
      ]
    },
    {
      "cell_type": "code",
      "metadata": {
        "colab": {
          "base_uri": "https://localhost:8080/"
        },
        "id": "zk3VYr4S73P8",
        "outputId": "71935089-29b6-47c8-9cb2-4d74d801abe5"
      },
      "source": [
        "df[df['default'] == 0].shape"
      ],
      "execution_count": null,
      "outputs": [
        {
          "output_type": "execute_result",
          "data": {
            "text/plain": [
              "(5968, 16)"
            ]
          },
          "metadata": {
            "tags": []
          },
          "execution_count": 23
        }
      ]
    },
    {
      "cell_type": "code",
      "metadata": {
        "colab": {
          "base_uri": "https://localhost:8080/"
        },
        "id": "9ZUNaniS8JBN",
        "outputId": "71ba446e-6e1b-497a-b1f1-db650b3bdc52"
      },
      "source": [
        "df[df['default'] == 1].shape"
      ],
      "execution_count": null,
      "outputs": [
        {
          "output_type": "execute_result",
          "data": {
            "text/plain": [
              "(1113, 16)"
            ]
          },
          "metadata": {
            "tags": []
          },
          "execution_count": 24
        }
      ]
    },
    {
      "cell_type": "markdown",
      "metadata": {
        "id": "oBClfyErdLVg"
      },
      "source": [
        "# Visualização"
      ]
    },
    {
      "cell_type": "markdown",
      "metadata": {
        "id": "6wBF19dgdFoG"
      },
      "source": [
        "A partir deste ponto em que nossos dados estão prontos, vamos criar visualizações e procurar correlações entre as colunas para entender qual fator ou quais fatores podem levar um cliente a inadimplência.\n",
        "\n",
        "De início vamos separar os conjuntos de dados entre adimplentes e inadimplentes."
      ]
    },
    {
      "cell_type": "code",
      "metadata": {
        "id": "5Va9UlMq8K1J"
      },
      "source": [
        "df_adimplente = df[df['default'] == 0]"
      ],
      "execution_count": null,
      "outputs": []
    },
    {
      "cell_type": "code",
      "metadata": {
        "id": "mBBENkfMeVld"
      },
      "source": [
        "df_inadimplente = df[df['default'] == 1]"
      ],
      "execution_count": null,
      "outputs": []
    },
    {
      "cell_type": "markdown",
      "metadata": {
        "id": "HdLXLN_7fG8O"
      },
      "source": [
        "Nosso conjunto de dados tem duas subdivisões básicas que são os dados numéricos e os não numéricos.\n",
        "\n",
        "Para um trabalho mais fluido vamos analisar estes tipos de dados separadamente, que vamos chamar de visualizações numéricas e visualizações categóricas."
      ]
    },
    {
      "cell_type": "markdown",
      "metadata": {
        "id": "7duGSPg3gcCK"
      },
      "source": [
        "## Visualizações categóricas"
      ]
    },
    {
      "cell_type": "markdown",
      "metadata": {
        "id": "n2E2-ED_glzm"
      },
      "source": [
        "Abaixo vamos identificar os dados categóricos."
      ]
    },
    {
      "cell_type": "code",
      "metadata": {
        "colab": {
          "base_uri": "https://localhost:8080/",
          "height": 206
        },
        "id": "ZbIvK-MteadG",
        "outputId": "f92fb2a2-cde7-418c-9843-497e3744f0d7"
      },
      "source": [
        "df.select_dtypes('object').head()"
      ],
      "execution_count": null,
      "outputs": [
        {
          "output_type": "execute_result",
          "data": {
            "text/html": [
              "<div>\n",
              "<style scoped>\n",
              "    .dataframe tbody tr th:only-of-type {\n",
              "        vertical-align: middle;\n",
              "    }\n",
              "\n",
              "    .dataframe tbody tr th {\n",
              "        vertical-align: top;\n",
              "    }\n",
              "\n",
              "    .dataframe thead th {\n",
              "        text-align: right;\n",
              "    }\n",
              "</style>\n",
              "<table border=\"1\" class=\"dataframe\">\n",
              "  <thead>\n",
              "    <tr style=\"text-align: right;\">\n",
              "      <th></th>\n",
              "      <th>sexo</th>\n",
              "      <th>escolaridade</th>\n",
              "      <th>estado_civil</th>\n",
              "      <th>salario_anual</th>\n",
              "      <th>tipo_cartao</th>\n",
              "    </tr>\n",
              "  </thead>\n",
              "  <tbody>\n",
              "    <tr>\n",
              "      <th>0</th>\n",
              "      <td>M</td>\n",
              "      <td>ensino medio</td>\n",
              "      <td>casado</td>\n",
              "      <td>$60K - $80K</td>\n",
              "      <td>blue</td>\n",
              "    </tr>\n",
              "    <tr>\n",
              "      <th>1</th>\n",
              "      <td>F</td>\n",
              "      <td>mestrado</td>\n",
              "      <td>solteiro</td>\n",
              "      <td>menos que $40K</td>\n",
              "      <td>blue</td>\n",
              "    </tr>\n",
              "    <tr>\n",
              "      <th>2</th>\n",
              "      <td>M</td>\n",
              "      <td>mestrado</td>\n",
              "      <td>casado</td>\n",
              "      <td>$80K - $120K</td>\n",
              "      <td>blue</td>\n",
              "    </tr>\n",
              "    <tr>\n",
              "      <th>4</th>\n",
              "      <td>M</td>\n",
              "      <td>sem educacao formal</td>\n",
              "      <td>casado</td>\n",
              "      <td>$60K - $80K</td>\n",
              "      <td>blue</td>\n",
              "    </tr>\n",
              "    <tr>\n",
              "      <th>5</th>\n",
              "      <td>M</td>\n",
              "      <td>mestrado</td>\n",
              "      <td>casado</td>\n",
              "      <td>$40K - $60K</td>\n",
              "      <td>blue</td>\n",
              "    </tr>\n",
              "  </tbody>\n",
              "</table>\n",
              "</div>"
            ],
            "text/plain": [
              "  sexo         escolaridade estado_civil   salario_anual tipo_cartao\n",
              "0    M         ensino medio       casado     $60K - $80K        blue\n",
              "1    F             mestrado     solteiro  menos que $40K        blue\n",
              "2    M             mestrado       casado    $80K - $120K        blue\n",
              "4    M  sem educacao formal       casado     $60K - $80K        blue\n",
              "5    M             mestrado       casado     $40K - $60K        blue"
            ]
          },
          "metadata": {
            "tags": []
          },
          "execution_count": 28
        }
      ]
    },
    {
      "cell_type": "markdown",
      "metadata": {
        "id": "kvbX6wVNkFQA"
      },
      "source": [
        "Escolaridade"
      ]
    },
    {
      "cell_type": "code",
      "metadata": {
        "id": "oJ9rNBPuTT5i",
        "colab": {
          "base_uri": "https://localhost:8080/",
          "height": 423
        },
        "outputId": "78049637-181b-4112-e5de-5d9deca3b6e9"
      },
      "source": [
        "coluna = 'escolaridade'\n",
        "titulos = ['Escolaridade dos Clientes', 'Escolaridade dos Clientes Adimplentes', 'Escolaridade dos Clientes Inadimplentes']\n",
        "\n",
        "eixo = 0\n",
        "max_y = 0\n",
        "max = df.select_dtypes('object').describe()[coluna]['freq'] * 1.1\n",
        "\n",
        "figura, eixos = plt.subplots(1,3, figsize=(20, 5), sharex=True)\n",
        "\n",
        "for dataframe in [df, df_adimplente, df_inadimplente]:\n",
        "\n",
        "  df_to_plot = dataframe[coluna].value_counts().to_frame()\n",
        "  df_to_plot.rename(columns={coluna: 'frequencia_absoluta'}, inplace=True)\n",
        "  df_to_plot[coluna] = df_to_plot.index\n",
        "  df_to_plot.sort_values(by=[coluna], inplace=True)\n",
        "  df_to_plot.sort_values(by=[coluna])\n",
        "\n",
        "  f = sns.barplot(x=df_to_plot[coluna], y=df_to_plot['frequencia_absoluta'], ax=eixos[eixo])\n",
        "  f.set(title=titulos[eixo], xlabel=coluna.capitalize(), ylabel='Frequência Absoluta')\n",
        "  f.set_xticklabels(labels=f.get_xticklabels(), rotation=45, ha='right')\n",
        "\n",
        "  _, max_y_f = f.get_ylim()\n",
        "  max_y = max_y_f if max_y_f > max_y else max_y\n",
        "  f.set(ylim=(0, max_y))\n",
        "\n",
        "  eixo += 1\n",
        "\n",
        "figura.show()"
      ],
      "execution_count": null,
      "outputs": [
        {
          "output_type": "display_data",
          "data": {
            "image/png": "[encoded data removed]",
            "text/plain": [
              "<Figure size 1440x360 with 3 Axes>"
            ]
          },
          "metadata": {
            "tags": [],
            "needs_background": "light"
          }
        }
      ]
    },
    {
      "cell_type": "markdown",
      "metadata": {
        "id": "Na-j2LpRkMbJ"
      },
      "source": [
        "Salário Anual"
      ]
    },
    {
      "cell_type": "code",
      "metadata": {
        "colab": {
          "base_uri": "https://localhost:8080/",
          "height": 407
        },
        "id": "nM4_-C7ajwqX",
        "outputId": "4cd4bf69-3273-4ba3-8a6e-87f012752b5c"
      },
      "source": [
        "coluna = 'salario_anual'\n",
        "titulos = ['Salário Anual dos Clientes', 'Salário Anual dos Clientes Adimplentes', 'Salário Anual dos Clientes Inadimplentes']\n",
        "\n",
        "eixo = 0\n",
        "max_y = 0\n",
        "figura, eixos = plt.subplots(1,3, figsize=(20, 5), sharex=True)\n",
        "\n",
        "for dataframe in [df, df_adimplente, df_inadimplente]:\n",
        "\n",
        "  df_to_plot = dataframe[coluna].value_counts().to_frame()\n",
        "  df_to_plot.rename(columns={coluna: 'frequencia_absoluta'}, inplace=True)\n",
        "  df_to_plot[coluna] = df_to_plot.index\n",
        "  df_to_plot.reset_index(inplace=True, drop=True)\n",
        "  df_to_plot.sort_values(by=[coluna], inplace=True)\n",
        "\n",
        "  f = sns.barplot(x=df_to_plot[coluna], y=df_to_plot['frequencia_absoluta'], ax=eixos[eixo])\n",
        "  f.set(title=titulos[eixo], xlabel=coluna.capitalize(), ylabel='Frequência Absoluta')\n",
        "  f.set_xticklabels(labels=f.get_xticklabels(), rotation=45, ha='right')\n",
        "  _, max_y_f = f.get_ylim()\n",
        "  max_y = max_y_f if max_y_f > max_y else max_y\n",
        "  f.set(ylim=(0, max_y))\n",
        "  eixo += 1\n",
        "\n",
        "figura.show()"
      ],
      "execution_count": null,
      "outputs": [
        {
          "output_type": "display_data",
          "data": {
            "image/png": "[encoded data removed]",
            "text/plain": [
              "<Figure size 1440x360 with 3 Axes>"
            ]
          },
          "metadata": {
            "tags": [],
            "needs_background": "light"
          }
        }
      ]
    },
    {
      "cell_type": "markdown",
      "metadata": {
        "id": "QbWzD66ZkasS"
      },
      "source": [
        "As proporções nestes dois casos se mantém entre os grupos de adimplentes e inadimplentes."
      ]
    },
    {
      "cell_type": "markdown",
      "metadata": {
        "id": "NNudbEQLks3D"
      },
      "source": [
        "##Visualizações numéricas"
      ]
    },
    {
      "cell_type": "markdown",
      "metadata": {
        "id": "dv7CYIWck4qf"
      },
      "source": [
        "Vamos exibir quais são as variáveis numéricas da base.\n",
        "\n",
        "Devemos retirar dessas colunas as variáveis de **id** e **default**."
      ]
    },
    {
      "cell_type": "code",
      "metadata": {
        "colab": {
          "base_uri": "https://localhost:8080/",
          "height": 206
        },
        "id": "A1-rfYcIkU2q",
        "outputId": "2ef1e863-7b56-4751-b6c9-ea160565a28c"
      },
      "source": [
        "df.drop(['id', 'default'], axis=1).select_dtypes('number').head()"
      ],
      "execution_count": null,
      "outputs": [
        {
          "output_type": "execute_result",
          "data": {
            "text/html": [
              "<div>\n",
              "<style scoped>\n",
              "    .dataframe tbody tr th:only-of-type {\n",
              "        vertical-align: middle;\n",
              "    }\n",
              "\n",
              "    .dataframe tbody tr th {\n",
              "        vertical-align: top;\n",
              "    }\n",
              "\n",
              "    .dataframe thead th {\n",
              "        text-align: right;\n",
              "    }\n",
              "</style>\n",
              "<table border=\"1\" class=\"dataframe\">\n",
              "  <thead>\n",
              "    <tr style=\"text-align: right;\">\n",
              "      <th></th>\n",
              "      <th>idade</th>\n",
              "      <th>dependentes</th>\n",
              "      <th>meses_de_relacionamento</th>\n",
              "      <th>qtd_produtos</th>\n",
              "      <th>iteracoes_12m</th>\n",
              "      <th>meses_inativo_12m</th>\n",
              "      <th>limite_credito</th>\n",
              "      <th>valor_transacoes_12m</th>\n",
              "      <th>qtd_transacoes_12m</th>\n",
              "    </tr>\n",
              "  </thead>\n",
              "  <tbody>\n",
              "    <tr>\n",
              "      <th>0</th>\n",
              "      <td>45</td>\n",
              "      <td>3</td>\n",
              "      <td>39</td>\n",
              "      <td>5</td>\n",
              "      <td>3</td>\n",
              "      <td>1</td>\n",
              "      <td>12691.51</td>\n",
              "      <td>1144.90</td>\n",
              "      <td>42</td>\n",
              "    </tr>\n",
              "    <tr>\n",
              "      <th>1</th>\n",
              "      <td>49</td>\n",
              "      <td>5</td>\n",
              "      <td>44</td>\n",
              "      <td>6</td>\n",
              "      <td>2</td>\n",
              "      <td>1</td>\n",
              "      <td>8256.96</td>\n",
              "      <td>1291.45</td>\n",
              "      <td>33</td>\n",
              "    </tr>\n",
              "    <tr>\n",
              "      <th>2</th>\n",
              "      <td>51</td>\n",
              "      <td>3</td>\n",
              "      <td>36</td>\n",
              "      <td>4</td>\n",
              "      <td>0</td>\n",
              "      <td>1</td>\n",
              "      <td>3418.56</td>\n",
              "      <td>1887.72</td>\n",
              "      <td>20</td>\n",
              "    </tr>\n",
              "    <tr>\n",
              "      <th>4</th>\n",
              "      <td>40</td>\n",
              "      <td>3</td>\n",
              "      <td>21</td>\n",
              "      <td>5</td>\n",
              "      <td>0</td>\n",
              "      <td>1</td>\n",
              "      <td>4716.22</td>\n",
              "      <td>816.08</td>\n",
              "      <td>28</td>\n",
              "    </tr>\n",
              "    <tr>\n",
              "      <th>5</th>\n",
              "      <td>44</td>\n",
              "      <td>2</td>\n",
              "      <td>36</td>\n",
              "      <td>3</td>\n",
              "      <td>2</td>\n",
              "      <td>1</td>\n",
              "      <td>4010.69</td>\n",
              "      <td>1088.07</td>\n",
              "      <td>24</td>\n",
              "    </tr>\n",
              "  </tbody>\n",
              "</table>\n",
              "</div>"
            ],
            "text/plain": [
              "   idade  dependentes  ...  valor_transacoes_12m  qtd_transacoes_12m\n",
              "0     45            3  ...               1144.90                  42\n",
              "1     49            5  ...               1291.45                  33\n",
              "2     51            3  ...               1887.72                  20\n",
              "4     40            3  ...                816.08                  28\n",
              "5     44            2  ...               1088.07                  24\n",
              "\n",
              "[5 rows x 9 columns]"
            ]
          },
          "metadata": {
            "tags": []
          },
          "execution_count": 37
        }
      ]
    },
    {
      "cell_type": "markdown",
      "metadata": {
        "id": "bvrD_Gb-l1ij"
      },
      "source": [
        "Quantidade de Transações nos Últimos 12 Meses"
      ]
    },
    {
      "cell_type": "code",
      "metadata": {
        "colab": {
          "base_uri": "https://localhost:8080/",
          "height": 353
        },
        "id": "PKAZXarmlpay",
        "outputId": "2384d598-78f9-4b6b-9937-091ad0fbbb73"
      },
      "source": [
        "coluna = 'qtd_transacoes_12m'\n",
        "titulos = ['Qtd. de Transações no Último Ano', 'Qtd. de Transações no Último Ano de Adimplentes', 'Qtd. de Transações no Último Ano de Inadimplentes']\n",
        "\n",
        "eixo = 0\n",
        "max_y = 0\n",
        "figura, eixos = plt.subplots(1,3, figsize=(20, 5), sharex=True)\n",
        "\n",
        "for dataframe in [df, df_adimplente, df_inadimplente]:\n",
        "\n",
        "  f = sns.histplot(x=coluna, data=dataframe, color='red',  stat='count', ax=eixos[eixo])\n",
        "  f.set(title=titulos[eixo], xlabel=coluna.capitalize(), ylabel='Frequência Absoluta')\n",
        "\n",
        "  _, max_y_f = f.get_ylim()\n",
        "  max_y = max_y_f if max_y_f > max_y else max_y\n",
        "  f.set(ylim=(0, max_y))\n",
        "\n",
        "  eixo += 1\n",
        "\n",
        "figura.show()"
      ],
      "execution_count": null,
      "outputs": [
        {
          "output_type": "display_data",
          "data": {
            "image/png": "[encoded data removed]",
            "text/plain": [
              "<Figure size 1440x360 with 3 Axes>"
            ]
          },
          "metadata": {
            "tags": [],
            "needs_background": "light"
          }
        }
      ]
    },
    {
      "cell_type": "markdown",
      "metadata": {
        "id": "0XSgbq4z1IiE"
      },
      "source": [
        "Valor das Transações nos Últimos 12 Meses"
      ]
    },
    {
      "cell_type": "code",
      "metadata": {
        "colab": {
          "base_uri": "https://localhost:8080/",
          "height": 353
        },
        "id": "uE6ztBb7w_X8",
        "outputId": "ace5dbba-2697-4a96-c06d-7b48930f4561"
      },
      "source": [
        "coluna = 'valor_transacoes_12m'\n",
        "titulos = ['Valor das Transações no Último Ano', 'Valor das Transações no Último Ano de Adimplentes', 'Valor das Transações no Último Ano de Inadimplentes']\n",
        "\n",
        "eixo = 0\n",
        "max_y = 0\n",
        "figura, eixos = plt.subplots(1,3, figsize=(20, 5), sharex=True)\n",
        "\n",
        "for dataframe in [df, df_adimplente, df_inadimplente]:\n",
        "\n",
        "  f = sns.histplot(x=coluna, data=dataframe, color='green', stat='count', ax=eixos[eixo])\n",
        "  f.set(title=titulos[eixo], xlabel=coluna.capitalize(), ylabel='Frequência Absoluta')\n",
        "\n",
        "  _, max_y_f = f.get_ylim()\n",
        "  max_y = max_y_f if max_y_f > max_y else max_y\n",
        "  f.set(ylim=(0, max_y))\n",
        "\n",
        "  eixo += 1\n",
        "\n",
        "figura.show()"
      ],
      "execution_count": null,
      "outputs": [
        {
          "output_type": "display_data",
          "data": {
            "image/png": "[encoded data removed]",
            "text/plain": [
              "<Figure size 1440x360 with 3 Axes>"
            ]
          },
          "metadata": {
            "tags": [],
            "needs_background": "light"
          }
        }
      ]
    },
    {
      "cell_type": "markdown",
      "metadata": {
        "id": "Brb-868_1W6S"
      },
      "source": [
        "Valor de Transações nos Últimos 12 Meses x Quantidade de Transações nos Últimos 12 Meses"
      ]
    },
    {
      "cell_type": "code",
      "metadata": {
        "colab": {
          "base_uri": "https://localhost:8080/",
          "height": 400
        },
        "id": "y1V4GLPB1Q8D",
        "outputId": "cf6e4de6-8cad-40bf-cc5c-dbe41640795c"
      },
      "source": [
        "f = sns.relplot(x='valor_transacoes_12m', y='qtd_transacoes_12m', data=df, hue='default')\n",
        "_ = f.set(\n",
        "    title='Relação entre Valor e Quantidade de Transações no Último Ano', \n",
        "    xlabel='Valor das Transações no Último Ano', \n",
        "    ylabel='Quantidade das Transações no Último Ano'\n",
        "  )"
      ],
      "execution_count": null,
      "outputs": [
        {
          "output_type": "display_data",
          "data": {
            "image/png": "[encoded data removed]",
            "text/plain": [
              "<Figure size 403.375x360 with 1 Axes>"
            ]
          },
          "metadata": {
            "tags": [],
            "needs_background": "light"
          }
        }
      ]
    },
    {
      "cell_type": "markdown",
      "metadata": {
        "id": "kZcUObo-1zE2"
      },
      "source": [
        "# Conclusão"
      ]
    },
    {
      "cell_type": "markdown",
      "metadata": {
        "id": "A25o6vGWaRGM"
      },
      "source": [
        "Com a análise realizada podemos observar que existem um padrão de comportamento dos clientes que têm maior tendência a serem inadimplentes.\n",
        "\n",
        "Esse comportamento tem um vínculo com a quantidade de de transações realizadas nos últmos 12 meses e com o valor das transações.\n",
        "\n",
        "Com relação aos valores existem duas faixas que são transações na faixa entre 1.000 e 3.000 aproximadamente e entre 7.500 e 10.000.\n",
        "\n",
        "Dentro destas duas faixas, os clientes com menor quantidade de transações nos últimos 12 meses são os que apresentam maior chance de inadimplência.\n",
        "\n",
        "Analisando estes dados seria interessante o banco dar uma maior atenção a estes perfis afim de tentar reduzir essa possibilidade, ou oferencendo renegociações de dívidas ou agindo de forma pró-ativa com alguma ação."
      ]
    }
  ]
}